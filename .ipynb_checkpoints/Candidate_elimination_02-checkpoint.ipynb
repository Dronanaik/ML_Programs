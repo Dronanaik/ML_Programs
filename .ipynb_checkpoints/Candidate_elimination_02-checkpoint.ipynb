{
 "cells": [
  {
   "cell_type": "markdown",
   "id": "373eeeae-d07b-40b7-bf99-3276cc57e0bf",
   "metadata": {},
   "source": [
    "# **For a given set of training data examples stored in a .CSV file, implement and demonstrate the Candidate-Elimination algorithmto output a description of the set of all hypotheses consistent with the training examples.** #"
   ]
  },
  {
   "cell_type": "code",
   "execution_count": 6,
   "id": "0446ac45-b745-4702-910c-991f6480983e",
   "metadata": {},
   "outputs": [
    {
     "name": "stdout",
     "output_type": "stream",
     "text": [
      "Initialization of specific_h and general_h:\n",
      "Specific Hypothesis: ['sunny' 'warm' 'normal' 'strong' 'warm' 'same']\n",
      "General Hypothesis: [['?', '?', '?', '?', '?', '?'], ['?', '?', '?', '?', '?', '?'], ['?', '?', '?', '?', '?', '?'], ['?', '?', '?', '?', '?', '?'], ['?', '?', '?', '?', '?', '?'], ['?', '?', '?', '?', '?', '?']]\n",
      "Step 1 of Candidate Elimination Algorithm:\n",
      "Specific Hypothesis: ['sunny' 'warm' 'normal' 'strong' 'warm' 'same']\n",
      "General Hypothesis: [['?', '?', '?', '?', '?', '?'], ['?', '?', '?', '?', '?', '?'], ['?', '?', '?', '?', '?', '?'], ['?', '?', '?', '?', '?', '?'], ['?', '?', '?', '?', '?', '?'], ['?', '?', '?', '?', '?', '?']]\n",
      "Step 2 of Candidate Elimination Algorithm:\n",
      "Specific Hypothesis: ['sunny' 'warm' 'normal' 'strong' 'warm' 'same']\n",
      "General Hypothesis: [['?', '?', '?', '?', '?', '?'], ['?', '?', '?', '?', '?', '?'], ['?', '?', '?', '?', '?', '?'], ['?', '?', '?', '?', '?', '?'], ['?', '?', '?', '?', '?', '?'], ['?', '?', '?', '?', '?', '?']]\n",
      "Step 3 of Candidate Elimination Algorithm:\n",
      "Specific Hypothesis: ['sunny' 'warm' 'normal' 'strong' 'warm' 'same']\n",
      "General Hypothesis: [['?', '?', '?', '?', '?', '?'], ['?', '?', '?', '?', '?', '?'], ['?', '?', '?', '?', '?', '?'], ['?', '?', '?', '?', '?', '?'], ['?', '?', '?', '?', '?', '?'], ['?', '?', '?', '?', '?', '?']]\n",
      "Step 4 of Candidate Elimination Algorithm:\n",
      "Specific Hypothesis: ['sunny' 'warm' 'normal' 'strong' 'warm' 'same']\n",
      "General Hypothesis: [['?', '?', '?', '?', '?', '?'], ['?', '?', '?', '?', '?', '?'], ['?', '?', '?', '?', '?', '?'], ['?', '?', '?', '?', '?', '?'], ['?', '?', '?', '?', '?', '?'], ['?', '?', '?', '?', '?', '?']]\n",
      "Final Specific Hypothesis: ['sunny' 'warm' 'normal' 'strong' 'warm' 'same']\n",
      "Final General Hypotheses: []\n"
     ]
    }
   ],
   "source": [
    "import numpy as np\n",
    "import pandas as pd\n",
    "\n",
    "# Loading Data from a CSV File\n",
    "data = pd.read_csv('data.csv')\n",
    "# Separating concept features from Target\n",
    "concepts = np.array(data.iloc[:, :-1])\n",
    "# Isolating target into a separate array\n",
    "target = np.array(data.iloc[:, -1])\n",
    "\n",
    "def learn(concepts, target):\n",
    "    '''\n",
    "    learn() function implements the learning method of the Candidate Elimination algorithm.\n",
    "\n",
    "    Arguments:\n",
    "    concepts - a 2D array with all the features (concept examples)\n",
    "    target - a 1D array with corresponding output values (target classes)\n",
    "    '''\n",
    "\n",
    "    # Initialize S0 with the first instance from concepts\n",
    "    specific_h = concepts[0].copy()\n",
    "    print(\"Initialization of specific_h and general_h:\")\n",
    "    print(\"Specific Hypothesis:\", specific_h)\n",
    "\n",
    "    # Initialize G0 as the most general hypothesis\n",
    "    general_h = [[\"?\" for _ in range(len(specific_h))] for _ in range(len(specific_h))]\n",
    "    print(\"General Hypothesis:\", general_h)\n",
    "\n",
    "    # Learning iterations\n",
    "    for i, h in enumerate(concepts):\n",
    "        # For a positive example, update the specific hypothesis\n",
    "        if target[i] == \"Yes\":\n",
    "            for x in range(len(specific_h)):\n",
    "                if h[x] != specific_h[x]:\n",
    "                    specific_h[x] = '?'\n",
    "                    general_h[x][x] = '?'\n",
    "\n",
    "        # For a negative example, update the general hypothesis\n",
    "        if target[i] == \"No\":\n",
    "            for x in range(len(specific_h)):\n",
    "                if h[x] != specific_h[x]:\n",
    "                    general_h[x][x] = specific_h[x]\n",
    "                else:\n",
    "                    general_h[x][x] = '?'\n",
    "\n",
    "        print(f\"Step {i+1} of Candidate Elimination Algorithm:\")\n",
    "        print(\"Specific Hypothesis:\", specific_h)\n",
    "        print(\"General Hypothesis:\", general_h)\n",
    "\n",
    "    # Remove redundant general hypotheses (those that are fully general)\n",
    "    indices = [i for i, val in enumerate(general_h) if val == ['?'] * len(specific_h)]\n",
    "    for i in indices:\n",
    "        general_h.remove(['?'] * len(specific_h))\n",
    "\n",
    "    # Return the final specific and general hypotheses\n",
    "    return specific_h, general_h\n",
    "\n",
    "# Learn from the given concepts and target\n",
    "s_final, g_final = learn(concepts, target)\n",
    "\n",
    "# Display the final specific and general hypotheses\n",
    "print(\"Final Specific Hypothesis:\", s_final)\n",
    "print(\"Final General Hypotheses:\", g_final)\n"
   ]
  },
  {
   "cell_type": "code",
   "execution_count": null,
   "id": "5c719a7a-a676-42dc-901a-9e32bb9224a7",
   "metadata": {},
   "outputs": [],
   "source": []
  }
 ],
 "metadata": {
  "kernelspec": {
   "display_name": "Python 3 (ipykernel)",
   "language": "python",
   "name": "python3"
  },
  "language_info": {
   "codemirror_mode": {
    "name": "ipython",
    "version": 3
   },
   "file_extension": ".py",
   "mimetype": "text/x-python",
   "name": "python",
   "nbconvert_exporter": "python",
   "pygments_lexer": "ipython3",
   "version": "3.12.4"
  }
 },
 "nbformat": 4,
 "nbformat_minor": 5
}
