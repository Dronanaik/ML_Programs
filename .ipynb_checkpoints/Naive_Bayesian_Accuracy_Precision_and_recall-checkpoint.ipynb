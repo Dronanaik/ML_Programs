{
 "cells": [
  {
   "cell_type": "markdown",
   "id": "4ef914c6-a879-4618-9916-29032d5168e7",
   "metadata": {},
   "source": [
    "# **Assuming a set of documents that need to be classified, use the naïve Bayesian Classifier model to perform this task. Built-in Java classes/API can be used to write theprogram. Calculate the accuracy, precision, and recall for your data set.** #\n"
   ]
  },
  {
   "cell_type": "code",
   "execution_count": null,
   "id": "b7235906-4867-455f-b626-84303a19f22c",
   "metadata": {},
   "outputs": [],
   "source": [
    "from sklearn.datasets import fetch_20newsgroups\n",
    "twenty_train = fetch_20newsgroups(subset='train', shuffle=True)\n",
    "print(\"lenth of the twenty_train--------->\", len(twenty_train))\n",
    "#print(twenty_train.target_names) #prints all the categories\n",
    "print(\"***First Line of the First Data File***\")\n",
    "#print(\"\\n\".join(twenty_train.data[0].split(\"\\n\")[:5]))#prints first line of the first data file\n",
    "#2 Extracting features from text files\n",
    "from sklearn.feature_extraction.text import CountVectorizer\n",
    "count_vect = CountVectorizer()\n",
    "X_train_counts = count_vect.fit_transform(twenty_train.data)\n",
    "print('dim=',X_train_counts.shape)\n",
    "#3 TF-IDF\n",
    "from sklearn.feature_extraction.text import TfidfTransformer\n",
    "tfidf_transformer = TfidfTransformer()\n",
    "X_train_tfidf = tfidf_transformer.fit_transform(X_train_counts)\n",
    "print(X_train_tfidf.shape)\n",
    "# Machine Learning\n",
    "#4 Training Naive Bayes (NB) classifier on training data.\n",
    "from sklearn.naive_bayes import MultinomialNB\n",
    "clf = MultinomialNB().fit(X_train_tfidf, twenty_train.target)\n",
    "# Building a pipeline: We can write less code and do all of the above, by building a pipeline\n",
    "as follows:\n",
    "# The names ‘vect’ , ‘tfidf’ and ‘clf’ are arbitrary but will be used later.\n",
    "# We will be using the 'text_clf' going forward.\n",
    "from sklearn.pipeline import Pipeline\n",
    "text_clf = Pipeline([('vect', CountVectorizer()), ('tfidf', TfidfTransformer()), ('clf',\n",
    "MultinomialNB())])\n",
    "text_clf = text_clf.fit(twenty_train.data, twenty_train.target)\n",
    "# Performance of NB Classifier\n",
    "import numpy as np\n",
    "twenty_test = fetch_20newsgroups(subset='test', shuffle=True)\n",
    "predicted = text_clf.predict(twenty_test.data)\n",
    "accuracy=np.mean(predicted == twenty_test.target)\n",
    "print(\"Predicted Accuracy = \",accuracy)\n",
    "#To Calculate Accuracy,Precision,Recall\n",
    "from sklearn import metrics\n",
    "print(\"Accuracy= \",metrics.accuracy_score(twenty_test.target,predicted))\n",
    "print(\"Precision=\",metrics.precision_score(twenty_test.target,predicted,average=None))\n",
    "print(\"Recall=\",metrics.recall_score(twenty_test.target,predicted,average=None))\n",
    "print(metrics.classification_report(twenty_test.target,\n",
    "predicted,target_names=twenty_test.target_names))"
   ]
  }
 ],
 "metadata": {
  "kernelspec": {
   "display_name": "Python 3 (ipykernel)",
   "language": "python",
   "name": "python3"
  },
  "language_info": {
   "codemirror_mode": {
    "name": "ipython",
    "version": 3
   },
   "file_extension": ".py",
   "mimetype": "text/x-python",
   "name": "python",
   "nbconvert_exporter": "python",
   "pygments_lexer": "ipython3",
   "version": "3.12.4"
  }
 },
 "nbformat": 4,
 "nbformat_minor": 5
}
