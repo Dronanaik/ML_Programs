{
 "cells": [
  {
   "cell_type": "markdown",
   "id": "95773060-4415-4f04-a908-af1903c1afa2",
   "metadata": {},
   "source": [
    "# **Build an Artificial Neural Network by implementing the Backpropagation algorithm and test the same using appropriate data sets.** #"
   ]
  },
  {
   "cell_type": "code",
   "execution_count": null,
   "id": "847ea216-e0fb-4fe4-8c79-926e94a621ef",
   "metadata": {},
   "outputs": [],
   "source": []
  }
 ],
 "metadata": {
  "kernelspec": {
   "display_name": "Python 3 (ipykernel)",
   "language": "python",
   "name": "python3"
  },
  "language_info": {
   "codemirror_mode": {
    "name": "ipython",
    "version": 3
   },
   "file_extension": ".py",
   "mimetype": "text/x-python",
   "name": "python",
   "nbconvert_exporter": "python",
   "pygments_lexer": "ipython3",
   "version": "3.12.4"
  }
 },
 "nbformat": 4,
 "nbformat_minor": 5
}
