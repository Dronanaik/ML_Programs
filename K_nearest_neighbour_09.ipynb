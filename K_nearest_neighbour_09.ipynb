{
 "cells": [
  {
   "cell_type": "markdown",
   "id": "cd78654f-ee53-4395-ab69-74b99f8ee445",
   "metadata": {},
   "source": [
    "# **Write a program to implement k-Nearest Neighbour algorithm to classify the iris data set.Print both correct and wrong predictions. Java/Python ML library classes can be used for this problem.** #"
   ]
  },
  {
   "cell_type": "code",
   "execution_count": null,
   "id": "dd1d5566-35fe-45b3-abb5-de5fcd98b3ce",
   "metadata": {},
   "outputs": [],
   "source": []
  }
 ],
 "metadata": {
  "kernelspec": {
   "display_name": "Python 3 (ipykernel)",
   "language": "python",
   "name": "python3"
  },
  "language_info": {
   "codemirror_mode": {
    "name": "ipython",
    "version": 3
   },
   "file_extension": ".py",
   "mimetype": "text/x-python",
   "name": "python",
   "nbconvert_exporter": "python",
   "pygments_lexer": "ipython3",
   "version": "3.12.4"
  }
 },
 "nbformat": 4,
 "nbformat_minor": 5
}
