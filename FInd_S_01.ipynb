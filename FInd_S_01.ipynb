{
 "cells": [
  {
   "cell_type": "markdown",
   "id": "a949ceea-9277-44b5-ab91-f219c1c4afb8",
   "metadata": {},
   "source": [
    "# **Implement and demonstratethe FIND-Salgorithm for finding the most specific hypothesis based on a given set of training data samples. Read the training data from a .CSV file.** #"
   ]
  },
  {
   "cell_type": "code",
   "execution_count": 6,
   "id": "ffab7002-72b5-41fe-9601-0e36e22b02e1",
   "metadata": {},
   "outputs": [
    {
     "name": "stdout",
     "output_type": "stream",
     "text": [
      "['Sky', 'Temp', 'Humidity', 'Wind', 'Water', 'Forecast']\n",
      "[['sky', 'air temp', 'humidity', 'wind', 'water', 'forecast', 'enjoy sport'],\n",
      " ['sunny', 'warm', 'normal', 'strong', 'warm', 'same', 'yes'],\n",
      " ['sunny', 'warm', 'high', 'strong', 'warm', 'same', 'yes'],\n",
      " ['rainy', 'cold', 'high', 'strong', 'warm', 'change', 'no'],\n",
      " ['sunny', 'warm', 'high', 'strong', 'cool', 'change', 'yes']]\n",
      "['Yes', 'Yes', 'No', 'Yes']\n",
      "['0', '0', '0', '0', '0', '0']\n",
      "The Hypothesis are\n",
      "1 = ['sky', 'air temp', 'humidity', 'wind', 'water', 'forecast']\n",
      "2 = ['?', '?', '?', '?', '?', '?']\n",
      "3 = ['?', '?', '?', '?', '?', '?']\n",
      "4 = ['?', '?', '?', '?', '?', '?']\n",
      "Final Hypothesis\n",
      "['?', '?', '?', '?', '?', '?']\n"
     ]
    }
   ],
   "source": [
    "import csv\n",
    "import pprint\n",
    "def loadCsv(data):\n",
    "    lines = csv.reader(open(data, \"rt\"))\n",
    "    dataset = list(lines)\n",
    "    for i in range(len(dataset)):\n",
    "        dataset[i] = dataset[i]\n",
    "    return dataset\n",
    "attributes = ['Sky','Temp','Humidity','Wind','Water','Forecast']\n",
    "pprint.pprint(attributes)\n",
    "num_attributes = len(attributes)\n",
    "filename = \"data.csv\"\n",
    "dataset = loadCsv(filename)\n",
    "pprint.pprint(dataset)\n",
    "target=['Yes','Yes','No','Yes']\n",
    "print(target)\n",
    "hypothesis=['0'] * num_attributes\n",
    "print(hypothesis)\n",
    "print(\"The Hypothesis are\")\n",
    "for i in range(len(target)):\n",
    "\n",
    "     if(target[i] == 'Yes'):\n",
    "         for j in range(num_attributes):\n",
    "             if(hypothesis[j]=='0'):\n",
    "                 hypothesis[j] = dataset[i][j]\n",
    "             if(hypothesis[j]!= dataset[i][j]):\n",
    "                 hypothesis[j]='?'\n",
    "\n",
    "     print(i+1,'=',hypothesis)\n",
    "\n",
    "print(\"Final Hypothesis\")\n",
    "print(hypothesis)"
   ]
  },
  {
   "cell_type": "code",
   "execution_count": null,
   "id": "4b1e92a6-904f-46ad-a530-7a4d70a69f04",
   "metadata": {},
   "outputs": [],
   "source": []
  }
 ],
 "metadata": {
  "kernelspec": {
   "display_name": "Python 3 (ipykernel)",
   "language": "python",
   "name": "python3"
  },
  "language_info": {
   "codemirror_mode": {
    "name": "ipython",
    "version": 3
   },
   "file_extension": ".py",
   "mimetype": "text/x-python",
   "name": "python",
   "nbconvert_exporter": "python",
   "pygments_lexer": "ipython3",
   "version": "3.12.4"
  }
 },
 "nbformat": 4,
 "nbformat_minor": 5
}
