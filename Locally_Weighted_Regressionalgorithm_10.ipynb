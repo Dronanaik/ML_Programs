{
 "cells": [
  {
   "cell_type": "markdown",
   "id": "cd3728a3-2413-42eb-b584-9c3bf3cd5929",
   "metadata": {},
   "source": [
    "# **Implement the non-parametric Locally Weighted Regressionalgorithm in order to fit data points. Select appropriate data set for your experiment and draw graphs.** #"
   ]
  },
  {
   "cell_type": "code",
   "execution_count": 21,
   "id": "9564690c-1a17-4e8a-98ee-ee197c6e0279",
   "metadata": {
    "scrolled": true
   },
   "outputs": [
    {
     "name": "stdout",
     "output_type": "stream",
     "text": [
      "Design matrix shape: (15, 2)\n"
     ]
    },
    {
     "ename": "AttributeError",
     "evalue": "module 'numpy' has no attribute 'asscalar'",
     "output_type": "error",
     "traceback": [
      "\u001b[1;31m---------------------------------------------------------------------------\u001b[0m",
      "\u001b[1;31mAttributeError\u001b[0m                            Traceback (most recent call last)",
      "Cell \u001b[1;32mIn[21], line 47\u001b[0m\n\u001b[0;32m     44\u001b[0m k \u001b[38;5;241m=\u001b[39m \u001b[38;5;241m0.5\u001b[39m  \u001b[38;5;66;03m# Adjust as needed for kernel width\u001b[39;00m\n\u001b[0;32m     46\u001b[0m \u001b[38;5;66;03m# Perform local weighted regression\u001b[39;00m\n\u001b[1;32m---> 47\u001b[0m ypred \u001b[38;5;241m=\u001b[39m localWeightRegression(X, mcolB, k)\n\u001b[0;32m     49\u001b[0m \u001b[38;5;66;03m# Sort the values for plotting\u001b[39;00m\n\u001b[0;32m     50\u001b[0m SortIndex \u001b[38;5;241m=\u001b[39m np\u001b[38;5;241m.\u001b[39margsort(X[:, \u001b[38;5;241m1\u001b[39m])  \u001b[38;5;66;03m# Sort index based on feature values\u001b[39;00m\n",
      "Cell \u001b[1;32mIn[21], line 25\u001b[0m, in \u001b[0;36mlocalWeightRegression\u001b[1;34m(xmat, ymat, k)\u001b[0m\n\u001b[0;32m     22\u001b[0m ypred \u001b[38;5;241m=\u001b[39m np\u001b[38;5;241m.\u001b[39mzeros(m)  \u001b[38;5;66;03m# Initialize prediction array\u001b[39;00m\n\u001b[0;32m     23\u001b[0m \u001b[38;5;28;01mfor\u001b[39;00m i \u001b[38;5;129;01min\u001b[39;00m \u001b[38;5;28mrange\u001b[39m(m):\n\u001b[0;32m     24\u001b[0m     \u001b[38;5;66;03m# Predicted value y = wx. Here w = weights we have computed.\u001b[39;00m\n\u001b[1;32m---> 25\u001b[0m     ypred[i] \u001b[38;5;241m=\u001b[39m (xmat[i] \u001b[38;5;241m@\u001b[39m localWeight(xmat[i], xmat, ymat, k))\u001b[38;5;241m.\u001b[39mitem()  \u001b[38;5;66;03m# Apply local weighting\u001b[39;00m\n\u001b[0;32m     26\u001b[0m \u001b[38;5;28;01mreturn\u001b[39;00m ypred\n",
      "Cell \u001b[1;32mIn[21], line 16\u001b[0m, in \u001b[0;36mlocalWeight\u001b[1;34m(point, xmat, ymat, k)\u001b[0m\n\u001b[0;32m     15\u001b[0m \u001b[38;5;28;01mdef\u001b[39;00m \u001b[38;5;21mlocalWeight\u001b[39m(point, xmat, ymat, k):\n\u001b[1;32m---> 16\u001b[0m     wei \u001b[38;5;241m=\u001b[39m kernel(point, xmat, k)  \u001b[38;5;66;03m# Compute weights\u001b[39;00m\n\u001b[0;32m     17\u001b[0m     W \u001b[38;5;241m=\u001b[39m np\u001b[38;5;241m.\u001b[39mlinalg\u001b[38;5;241m.\u001b[39minv(xmat\u001b[38;5;241m.\u001b[39mT \u001b[38;5;241m@\u001b[39m (wei \u001b[38;5;241m@\u001b[39m xmat)) \u001b[38;5;241m@\u001b[39m (xmat\u001b[38;5;241m.\u001b[39mT \u001b[38;5;241m@\u001b[39m (wei \u001b[38;5;241m@\u001b[39m ymat))  \u001b[38;5;66;03m# Calculate weighted regression coefficients\u001b[39;00m\n\u001b[0;32m     18\u001b[0m     \u001b[38;5;28;01mreturn\u001b[39;00m W\n",
      "Cell \u001b[1;32mIn[21], line 11\u001b[0m, in \u001b[0;36mkernel\u001b[1;34m(point, xmat, k)\u001b[0m\n\u001b[0;32m      9\u001b[0m \u001b[38;5;28;01mfor\u001b[39;00m j \u001b[38;5;129;01min\u001b[39;00m \u001b[38;5;28mrange\u001b[39m(m):\n\u001b[0;32m     10\u001b[0m     diff \u001b[38;5;241m=\u001b[39m point \u001b[38;5;241m-\u001b[39m xmat[j]  \u001b[38;5;66;03m# Calculate the difference\u001b[39;00m\n\u001b[1;32m---> 11\u001b[0m     weights[j, j] \u001b[38;5;241m=\u001b[39m np\u001b[38;5;241m.\u001b[39mexp(np\u001b[38;5;241m.\u001b[39masscalar(diff \u001b[38;5;241m@\u001b[39m diff\u001b[38;5;241m.\u001b[39mT) \u001b[38;5;241m/\u001b[39m (\u001b[38;5;241m-\u001b[39m\u001b[38;5;241m2.0\u001b[39m \u001b[38;5;241m*\u001b[39m k\u001b[38;5;241m*\u001b[39m\u001b[38;5;241m*\u001b[39m\u001b[38;5;241m2\u001b[39m))  \u001b[38;5;66;03m# Gaussian weight\u001b[39;00m\n\u001b[0;32m     12\u001b[0m \u001b[38;5;28;01mreturn\u001b[39;00m weights\n",
      "File \u001b[1;32m~\\anaconda3\\Lib\\site-packages\\numpy\\__init__.py:333\u001b[0m, in \u001b[0;36m__getattr__\u001b[1;34m(attr)\u001b[0m\n\u001b[0;32m    330\u001b[0m     \u001b[38;5;124m\"\u001b[39m\u001b[38;5;124mRemoved in NumPy 1.25.0\u001b[39m\u001b[38;5;124m\"\u001b[39m\n\u001b[0;32m    331\u001b[0m     \u001b[38;5;28;01mraise\u001b[39;00m \u001b[38;5;167;01mRuntimeError\u001b[39;00m(\u001b[38;5;124m\"\u001b[39m\u001b[38;5;124mTester was removed in NumPy 1.25.\u001b[39m\u001b[38;5;124m\"\u001b[39m)\n\u001b[1;32m--> 333\u001b[0m \u001b[38;5;28;01mraise\u001b[39;00m \u001b[38;5;167;01mAttributeError\u001b[39;00m(\u001b[38;5;124m\"\u001b[39m\u001b[38;5;124mmodule \u001b[39m\u001b[38;5;132;01m{!r}\u001b[39;00m\u001b[38;5;124m has no attribute \u001b[39m\u001b[38;5;124m\"\u001b[39m\n\u001b[0;32m    334\u001b[0m                      \u001b[38;5;124m\"\u001b[39m\u001b[38;5;132;01m{!r}\u001b[39;00m\u001b[38;5;124m\"\u001b[39m\u001b[38;5;241m.\u001b[39mformat(\u001b[38;5;18m__name__\u001b[39m, attr))\n",
      "\u001b[1;31mAttributeError\u001b[0m: module 'numpy' has no attribute 'asscalar'"
     ]
    }
   ],
   "source": [
    "import numpy as np\n",
    "import pandas as pd\n",
    "import matplotlib.pyplot as plt\n",
    "\n",
    "# The Gaussian Kernel\n",
    "def kernel(point, xmat, k):\n",
    "    m, n = np.shape(xmat)\n",
    "    weights = np.eye(m)  # Initialize weights matrix\n",
    "    for j in range(m):\n",
    "        diff = point - xmat[j]  # Calculate the difference\n",
    "        weights[j, j] = np.exp(np.asscalar(diff @ diff.T) / (-2.0 * k**2))  # Gaussian weight\n",
    "    return weights\n",
    "\n",
    "# Weight each point by its distance to the reference point\n",
    "def localWeight(point, xmat, ymat, k):\n",
    "    wei = kernel(point, xmat, k)  # Compute weights\n",
    "    W = np.linalg.inv(xmat.T @ (wei @ xmat)) @ (xmat.T @ (wei @ ymat))  # Calculate weighted regression coefficients\n",
    "    return W\n",
    "\n",
    "def localWeightRegression(xmat, ymat, k):\n",
    "    m, n = np.shape(xmat)\n",
    "    ypred = np.zeros(m)  # Initialize prediction array\n",
    "    for i in range(m):\n",
    "        # Predicted value y = wx. Here w = weights we have computed.\n",
    "        ypred[i] = (xmat[i] @ localWeight(xmat[i], xmat, ymat, k)).item()  # Apply local weighting\n",
    "    return ypred\n",
    "\n",
    "# Load data points from CSV file\n",
    "data = pd.read_csv('LR.csv')  # Ensure LR.csv is in the working directory\n",
    "colA = np.array(data['colA'])  # Extract column A\n",
    "colB = np.array(data['colB'])  # Extract column B\n",
    "\n",
    "# Prepare and add a column of ones for the intercept term\n",
    "mcolA = colA.reshape(-1, 1)  # Convert to matrix form\n",
    "mcolB = colB.reshape(-1, 1)  # Convert to matrix form\n",
    "m = np.shape(mcolA)[0]  # Number of samples\n",
    "one = np.ones((m, 1), dtype=int)  # Create a column of ones\n",
    "\n",
    "# Horizontally stack to create the design matrix\n",
    "X = np.hstack((one, mcolA))  # Combine intercept and feature column\n",
    "print(\"Design matrix shape:\", X.shape)\n",
    "\n",
    "# Set k for the Gaussian kernel\n",
    "k = 0.5  # Adjust as needed for kernel width\n",
    "\n",
    "# Perform local weighted regression\n",
    "ypred = localWeightRegression(X, mcolB, k)\n",
    "\n",
    "# Sort the values for plotting\n",
    "SortIndex = np.argsort(X[:, 1])  # Sort index based on feature values\n",
    "xsort = X[SortIndex]  # Sorted design matrix\n",
    "\n",
    "# Plotting the results\n",
    "fig = plt.figure()\n",
    "ax = fig.add_subplot(1, 1, 1)\n",
    "ax.scatter(colA, colB, color='green', label='Data Points')  # Original data points\n",
    "ax.plot(xsort[:, 1], ypred[SortIndex], color='red', linewidth=5, label='Local Weighted Regression')  # Regression line\n",
    "plt.xlabel('colA')\n",
    "plt.ylabel('colB')\n",
    "plt.title('Local Weighted Regression')\n",
    "plt.legend()\n",
    "plt.show()\n"
   ]
  },
  {
   "cell_type": "code",
   "execution_count": null,
   "id": "4d018bf1-e842-4e02-913e-22922ccd4318",
   "metadata": {},
   "outputs": [],
   "source": []
  },
  {
   "cell_type": "code",
   "execution_count": null,
   "id": "2669a6c2-f5aa-4c35-8cc4-6191d7ddacd5",
   "metadata": {},
   "outputs": [],
   "source": []
  }
 ],
 "metadata": {
  "kernelspec": {
   "display_name": "Python 3 (ipykernel)",
   "language": "python",
   "name": "python3"
  },
  "language_info": {
   "codemirror_mode": {
    "name": "ipython",
    "version": 3
   },
   "file_extension": ".py",
   "mimetype": "text/x-python",
   "name": "python",
   "nbconvert_exporter": "python",
   "pygments_lexer": "ipython3",
   "version": "3.12.4"
  }
 },
 "nbformat": 4,
 "nbformat_minor": 5
}
